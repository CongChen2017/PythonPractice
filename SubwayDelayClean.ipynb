{
 "cells": [
  {
   "cell_type": "code",
   "execution_count": 1,
   "metadata": {
    "collapsed": true
   },
   "outputs": [],
   "source": [
    "# Dependencies\n",
    "import tweepy\n",
    "import json\n",
    "import pandas as pd\n",
    "import matplotlib.pyplot as plt\n",
    "from mydata import *\n",
    "from collections import Counter"
   ]
  },
  {
   "cell_type": "code",
   "execution_count": 2,
   "metadata": {
    "collapsed": true
   },
   "outputs": [],
   "source": [
    "# Setup Tweepy API Authentication\n",
    "auth = tweepy.OAuthHandler(consumer_key, consumer_secret)\n",
    "auth.set_access_token(access_token, access_token_secret)\n",
    "api = tweepy.API(auth, parser=tweepy.parsers.JSONParser())"
   ]
  },
  {
   "cell_type": "code",
   "execution_count": 3,
   "metadata": {
    "collapsed": true
   },
   "outputs": [],
   "source": [
    "# Define a funtion to get home feed tweets for certain page number\n",
    "def get_public_tweets(Page_number):\n",
    "    # generate empty list to hold tweets\n",
    "    public_tweets = []\n",
    "    # loop through all pages and request tweets using tweepy API\n",
    "    for x in range(Page_number):\n",
    "        response = api.user_timeline(\"SubwayStats\", page=x)\n",
    "        public_tweets.extend(response)\n",
    "    return public_tweets"
   ]
  },
  {
   "cell_type": "code",
   "execution_count": 4,
   "metadata": {
    "collapsed": true
   },
   "outputs": [],
   "source": [
    "# Define a funtion to filter tweets with important message\n",
    "def filter_tweets_info(Tweets_list):\n",
    "    # generate empty list to hold useful tweets\n",
    "    useful_tweets = []\n",
    "    # Loop through all tweets\n",
    "    for tweet in Tweets_list:\n",
    "        # Break tweet text into a list of lowercase words\n",
    "        tweet_text = tweet[\"text\"].lower().split(\" \")\n",
    "        # Print the tweet text only if it contains the word \"delays\" or \"change\"\n",
    "        if(\"delays\" in tweet_text or \"change\" in tweet_text):\n",
    "#             print(tweet[\"text\"].lower())\n",
    "            useful_tweets.append(tweet)\n",
    "    return useful_tweets"
   ]
  },
  {
   "cell_type": "code",
   "execution_count": 5,
   "metadata": {
    "collapsed": true
   },
   "outputs": [],
   "source": [
    "# Define a function to find delayed train info\n",
    "def find_train_info(Tweets_list):\n",
    "    # generate empty lists to hold train names\n",
    "    name_list = []\n",
    "    train_names = []\n",
    "    # loop through all tweets\n",
    "    for tweet in Tweets_list:\n",
    "        # Loop through hashtags to extract the train names\n",
    "        for hashtag in tweet['entities']['hashtags']:\n",
    "            # Extract the hashtag's text, and set it to lower case\n",
    "            name = hashtag['text'].lower()\n",
    "            name_list.append(name)\n",
    "    # loop through names extracted from hashtags\n",
    "    for name in name_list:\n",
    "        # Remove all hashtags that are extraneous\n",
    "        if (name != \"nycsubway\" and name != \"mta\" and name != \"nyc\"):\n",
    "            train_names.append(name)\n",
    "    # generate train info\n",
    "    delayed_trains = Counter(train_names)\n",
    "    # convert to Pandas series\n",
    "    delayed_train_info = pd.Series(delayed_trains)\n",
    "    return delayed_train_info"
   ]
  },
  {
   "cell_type": "code",
   "execution_count": 6,
   "metadata": {
    "collapsed": true
   },
   "outputs": [],
   "source": [
    "# put functions together and get delayed train info\n",
    "all_tweets = get_public_tweets(50)\n",
    "useful_tweets = filter_tweets_info(all_tweets)\n",
    "delayed_train_info = find_train_info(useful_tweets)"
   ]
  },
  {
   "cell_type": "code",
   "execution_count": 7,
   "metadata": {},
   "outputs": [
    {
     "data": {
      "image/png": "[encoded data removed]",
      "text/plain": [
       "<matplotlib.figure.Figure at 0x116744048>"
      ]
     },
     "metadata": {},
     "output_type": "display_data"
    }
   ],
   "source": [
    "# Create a plot  \n",
    "delayed_train_info.plot.bar(figsize=(8, 4), rot=45)\n",
    "plt.ylabel(\"Number of Delays\")\n",
    "plt.xlabel(\"Train Name\")\n",
    "plt.title(\"Number of Train Delays According to 1000 Subway Status Tweets...\")\n",
    "plt.show()"
   ]
  },
  {
   "cell_type": "code",
   "execution_count": null,
   "metadata": {
    "collapsed": true
   },
   "outputs": [],
   "source": []
  }
 ],
 "metadata": {
  "kernelspec": {
   "display_name": "Python 3",
   "language": "python",
   "name": "python3"
  },
  "language_info": {
   "codemirror_mode": {
    "name": "ipython",
    "version": 3
   },
   "file_extension": ".py",
   "mimetype": "text/x-python",
   "name": "python",
   "nbconvert_exporter": "python",
   "pygments_lexer": "ipython3",
   "version": "3.6.1"
  }
 },
 "nbformat": 4,
 "nbformat_minor": 2
}
