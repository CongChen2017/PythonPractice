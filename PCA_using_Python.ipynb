{
 "cells": [
  {
   "cell_type": "markdown",
   "metadata": {},
   "source": [
    "This is a follow along Notebook for Josh Starmer's StatQuest: PCA in Python. <br>\n",
    "Link: https://www.youtube.com/watch?v=Lsue2gEM9D0"
   ]
  },
  {
   "cell_type": "code",
   "execution_count": 1,
   "metadata": {},
   "outputs": [],
   "source": [
    "# dependencies\n",
    "import pandas as pd\n",
    "import numpy as np\n",
    "import random as rd\n",
    "from sklearn.decomposition import PCA\n",
    "from sklearn import preprocessing\n",
    "import matplotlib.pyplot as plt"
   ]
  },
  {
   "cell_type": "code",
   "execution_count": 3,
   "metadata": {},
   "outputs": [],
   "source": [
    "# generate data\n",
    "# define 100 gene names\n",
    "genes = ['gene' + str(i) for i in range(1, 101)]\n",
    "# define two types of samples as column names\n",
    "wt = ['wt' + str(i) for i in range(1, 6)]\n",
    "ko = ['ko' + str(i) for i in range(1, 6)]\n",
    "# create a pandas data frame\n",
    "data = pd.DataFrame(columns=[*wt, *ko], index=genes)\n",
    "# populate some random data into the data frame\n",
    "for gene in data.index:\n",
    "    data.loc[gene, 'wt1':'wt5'] = np.random.poisson(lam=rd.randrange(10, 1000), size=5)\n",
    "    data.loc[gene, 'ko1':'ko5'] = np.random.poisson(lam=rd.randrange(10, 1000), size=5)"
   ]
  },
  {
   "cell_type": "code",
   "execution_count": 4,
   "metadata": {},
   "outputs": [
    {
     "data": {
      "text/html": [
       "<div>\n",
       "<style scoped>\n",
       "    .dataframe tbody tr th:only-of-type {\n",
       "        vertical-align: middle;\n",
       "    }\n",
       "\n",
       "    .dataframe tbody tr th {\n",
       "        vertical-align: top;\n",
       "    }\n",
       "\n",
       "    .dataframe thead th {\n",
       "        text-align: right;\n",
       "    }\n",
       "</style>\n",
       "<table border=\"1\" class=\"dataframe\">\n",
       "  <thead>\n",
       "    <tr style=\"text-align: right;\">\n",
       "      <th></th>\n",
       "      <th>wt1</th>\n",
       "      <th>wt2</th>\n",
       "      <th>wt3</th>\n",
       "      <th>wt4</th>\n",
       "      <th>wt5</th>\n",
       "      <th>ko1</th>\n",
       "      <th>ko2</th>\n",
       "      <th>ko3</th>\n",
       "      <th>ko4</th>\n",
       "      <th>ko5</th>\n",
       "    </tr>\n",
       "  </thead>\n",
       "  <tbody>\n",
       "    <tr>\n",
       "      <th>gene1</th>\n",
       "      <td>956</td>\n",
       "      <td>956</td>\n",
       "      <td>1004</td>\n",
       "      <td>969</td>\n",
       "      <td>938</td>\n",
       "      <td>958</td>\n",
       "      <td>979</td>\n",
       "      <td>965</td>\n",
       "      <td>1010</td>\n",
       "      <td>956</td>\n",
       "    </tr>\n",
       "    <tr>\n",
       "      <th>gene2</th>\n",
       "      <td>426</td>\n",
       "      <td>417</td>\n",
       "      <td>422</td>\n",
       "      <td>441</td>\n",
       "      <td>457</td>\n",
       "      <td>341</td>\n",
       "      <td>318</td>\n",
       "      <td>343</td>\n",
       "      <td>329</td>\n",
       "      <td>344</td>\n",
       "    </tr>\n",
       "    <tr>\n",
       "      <th>gene3</th>\n",
       "      <td>829</td>\n",
       "      <td>852</td>\n",
       "      <td>877</td>\n",
       "      <td>848</td>\n",
       "      <td>823</td>\n",
       "      <td>609</td>\n",
       "      <td>561</td>\n",
       "      <td>600</td>\n",
       "      <td>596</td>\n",
       "      <td>575</td>\n",
       "    </tr>\n",
       "    <tr>\n",
       "      <th>gene4</th>\n",
       "      <td>972</td>\n",
       "      <td>951</td>\n",
       "      <td>949</td>\n",
       "      <td>952</td>\n",
       "      <td>970</td>\n",
       "      <td>507</td>\n",
       "      <td>485</td>\n",
       "      <td>483</td>\n",
       "      <td>506</td>\n",
       "      <td>501</td>\n",
       "    </tr>\n",
       "    <tr>\n",
       "      <th>gene5</th>\n",
       "      <td>17</td>\n",
       "      <td>14</td>\n",
       "      <td>22</td>\n",
       "      <td>19</td>\n",
       "      <td>17</td>\n",
       "      <td>152</td>\n",
       "      <td>155</td>\n",
       "      <td>127</td>\n",
       "      <td>157</td>\n",
       "      <td>130</td>\n",
       "    </tr>\n",
       "  </tbody>\n",
       "</table>\n",
       "</div>"
      ],
      "text/plain": [
       "       wt1  wt2   wt3  wt4  wt5  ko1  ko2  ko3   ko4  ko5\n",
       "gene1  956  956  1004  969  938  958  979  965  1010  956\n",
       "gene2  426  417   422  441  457  341  318  343   329  344\n",
       "gene3  829  852   877  848  823  609  561  600   596  575\n",
       "gene4  972  951   949  952  970  507  485  483   506  501\n",
       "gene5   17   14    22   19   17  152  155  127   157  130"
      ]
     },
     "execution_count": 4,
     "metadata": {},
     "output_type": "execute_result"
    }
   ],
   "source": [
    "# check the data\n",
    "data.head()"
   ]
  },
  {
   "cell_type": "code",
   "execution_count": 5,
   "metadata": {},
   "outputs": [
    {
     "data": {
      "text/plain": [
       "(100, 10)"
      ]
     },
     "execution_count": 5,
     "metadata": {},
     "output_type": "execute_result"
    }
   ],
   "source": [
    "# check the data (2)\n",
    "data.shape"
   ]
  },
  {
   "cell_type": "code",
   "execution_count": 6,
   "metadata": {},
   "outputs": [],
   "source": [
    "# calculate PCA\n",
    "\n",
    "# first, center and scale the data\n",
    "scaled_data = preprocessing.scale(data.T)\n",
    "# alternative way\n",
    "# scaled_data = StandardScaler().fit_transform(data.T)\n",
    "\n",
    "# create a PCA object, and use it to fit the scaled data\n",
    "pca = PCA()\n",
    "pca.fit(scaled_data)\n",
    "\n",
    "# generate coordinates for graphs\n",
    "pca_data = pca.transform(scaled_data)"
   ]
  },
  {
   "cell_type": "code",
   "execution_count": 7,
   "metadata": {},
   "outputs": [
    {
     "data": {
      "image/png": "[encoded data removed]",
      "text/plain": [
       "<Figure size 432x288 with 1 Axes>"
      ]
     },
     "metadata": {
      "needs_background": "light"
     },
     "output_type": "display_data"
    }
   ],
   "source": [
    "# generate scree plot\n",
    "\n",
    "# calcuate percentage of variation for each principle components\n",
    "per_var = np.round(pca.explained_variance_ratio_* 100, decimals=1)\n",
    "\n",
    "# generate labels for plot\n",
    "labels = ['PC' + str(i) for i in range(1, len(per_var)+1)]\n",
    "\n",
    "# generate scree plot (bar graph)\n",
    "plt.bar(x=range(1, len(per_var)+1), height=per_var, tick_label=labels)\n",
    "plt.ylabel(\"Percentage of Explained Variance\")\n",
    "plt.xlabel(\"Principal Component\")\n",
    "plt.title(\"Scree Plot\")\n",
    "plt.show()"
   ]
  },
  {
   "cell_type": "code",
   "execution_count": 8,
   "metadata": {},
   "outputs": [
    {
     "data": {
      "image/png": "[encoded data removed]",
      "text/plain": [
       "<Figure size 432x288 with 1 Axes>"
      ]
     },
     "metadata": {
      "needs_background": "light"
     },
     "output_type": "display_data"
    }
   ],
   "source": [
    "# draw PCA plot\n",
    "\n",
    "# generate a new matrix\n",
    "pca_df = pd.DataFrame(pca_data, index=[*wt, *ko], columns=labels)\n",
    "\n",
    "# generate PCA plot (scatter plot)\n",
    "plt.scatter(pca_df.PC1, pca_df.PC2)\n",
    "plt.xlabel(\"PC1 - {0}%\".format(per_var[0]))\n",
    "plt.ylabel(\"PC2 - {0}%\".format(per_var[1]))\n",
    "\n",
    "for sample in pca_df.index:\n",
    "    plt.annotate(sample, (pca_df.PC1.loc[sample], pca_df.PC2.loc[sample]))\n",
    "\n",
    "plt.show()"
   ]
  },
  {
   "cell_type": "code",
   "execution_count": 9,
   "metadata": {},
   "outputs": [
    {
     "data": {
      "text/plain": [
       "gene79   -0.108190\n",
       "gene74   -0.108172\n",
       "gene75   -0.108126\n",
       "gene59    0.108124\n",
       "gene87    0.108122\n",
       "gene28   -0.108094\n",
       "gene47   -0.108086\n",
       "gene4    -0.108070\n",
       "gene71   -0.108068\n",
       "gene54   -0.108061\n",
       "dtype: float64"
      ]
     },
     "execution_count": 9,
     "metadata": {},
     "output_type": "execute_result"
    }
   ],
   "source": [
    "# check loading scores of PC1\n",
    "# create a pandas series object\n",
    "loading_scores = pd.Series(pca.components_[0], index=genes)\n",
    "# note: PCs are zero-indexed, so PC1 = 0\n",
    "\n",
    "# sort loading scores based on their absolute value (magnitude)\n",
    "sorted_loading_scores = loading_scores.abs().sort_values(ascending=False)\n",
    "\n",
    "# get names of top 10 indexes (gene names)\n",
    "top_10_genes = sorted_loading_scores[0:10].index.values\n",
    "\n",
    "# print top 10 genes and loading scores\n",
    "loading_scores[top_10_genes]\n",
    "# values are pretty close showed that multiple genes affected PC1"
   ]
  },
  {
   "cell_type": "code",
   "execution_count": null,
   "metadata": {},
   "outputs": [],
   "source": []
  }
 ],
 "metadata": {
  "kernelspec": {
   "display_name": "Python 3",
   "language": "python",
   "name": "python3"
  },
  "language_info": {
   "codemirror_mode": {
    "name": "ipython",
    "version": 3
   },
   "file_extension": ".py",
   "mimetype": "text/x-python",
   "name": "python",
   "nbconvert_exporter": "python",
   "pygments_lexer": "ipython3",
   "version": "3.7.0"
  }
 },
 "nbformat": 4,
 "nbformat_minor": 2
}
