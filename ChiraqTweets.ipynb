{
 "cells": [
  {
   "cell_type": "code",
   "execution_count": 1,
   "metadata": {
    "collapsed": true
   },
   "outputs": [],
   "source": [
    "# Dependencies\n",
    "import tweepy\n",
    "import json\n",
    "import pandas as pd\n",
    "import matplotlib.pyplot as plt\n",
    "from mydata import *\n",
    "from collections import Counter\n",
    "from pprint import pprint\n",
    "from datetime import datetime"
   ]
  },
  {
   "cell_type": "code",
   "execution_count": 2,
   "metadata": {
    "collapsed": true
   },
   "outputs": [],
   "source": [
    "# Setup Tweepy API Authentication\n",
    "auth = tweepy.OAuthHandler(consumer_key, consumer_secret)\n",
    "auth.set_access_token(access_token, access_token_secret)\n",
    "api = tweepy.API(auth, parser=tweepy.parsers.JSONParser())"
   ]
  },
  {
   "cell_type": "code",
   "execution_count": 3,
   "metadata": {
    "collapsed": true
   },
   "outputs": [],
   "source": [
    "def get_public_tweets(Page_number):\n",
    "    # generate empty list to hold tweets\n",
    "    public_tweets = []\n",
    "    # loop through all pages and request tweets using tweepy API\n",
    "    for x in range(Page_number):\n",
    "        response = api.user_timeline(\"ChiraqHomicide\", page=x)\n",
    "        public_tweets.extend(response)\n",
    "    return public_tweets"
   ]
  },
  {
   "cell_type": "code",
   "execution_count": 4,
   "metadata": {
    "collapsed": true
   },
   "outputs": [],
   "source": [
    "all_tweets = get_public_tweets(50)"
   ]
  },
  {
   "cell_type": "code",
   "execution_count": 5,
   "metadata": {
    "collapsed": true
   },
   "outputs": [],
   "source": [
    "with open(\"Output.txt\", \"w\") as text_file:\n",
    "    counter =1\n",
    "    for tweet in all_tweets:\n",
    "        text_file.writelines(\"------------\")\n",
    "        text_file.writelines(\"\\n\")\n",
    "        text_file.writelines(f\"{counter}: Created at {tweet['created_at']}\")\n",
    "        text_file.writelines(\"\\n\")\n",
    "        text_file.writelines(tweet['text'])\n",
    "        text_file.writelines(\"\\n\")\n",
    "        counter = counter +1"
   ]
  },
  {
   "cell_type": "code",
   "execution_count": 14,
   "metadata": {
    "collapsed": true
   },
   "outputs": [],
   "source": [
    "# A list to hold tweet timestamps\n",
    "tweet_times = []\n",
    "tweet_texts = []\n",
    "\n",
    "# Loop through all tweets\n",
    "for tweet in all_tweets:\n",
    "    raw_time = tweet[\"created_at\"]\n",
    "    text = tweet[\"text\"]\n",
    "#     print(raw_time)\n",
    "    tweet_times.append(raw_time)\n",
    "    tweet_texts.append(text)\n",
    "    \n",
    "# Convert tweet timestamps to datetime objects that can be manipulated by Python\n",
    "\n",
    "converted_timestamps = []\n",
    "for raw_time in tweet_times:\n",
    "    # https://docs.python.org/3/library/datetime.html#strftime-and-strptime-behavior\n",
    "    # http://strftime.org/\n",
    "    converted_time = datetime.strptime(raw_time, \"%a %b %d %H:%M:%S %z %Y\")\n",
    "    converted_timestamps.append(converted_time)"
   ]
  },
  {
   "cell_type": "code",
   "execution_count": 7,
   "metadata": {
    "collapsed": true
   },
   "outputs": [],
   "source": [
    "# generate date info from time stamps\n",
    "date_list = []\n",
    "\n",
    "for timestamp in converted_timestamps:\n",
    "    date = f\"{timestamp.year}-{timestamp.month}-{timestamp.day}\"\n",
    "    date_list.append(date)"
   ]
  },
  {
   "cell_type": "code",
   "execution_count": 8,
   "metadata": {
    "collapsed": true
   },
   "outputs": [],
   "source": [
    "date_info = Counter(date_list)\n",
    "date_info_df = pd.Series(date_info)"
   ]
  },
  {
   "cell_type": "code",
   "execution_count": 11,
   "metadata": {},
   "outputs": [
    {
     "data": {
      "image/png": "[encoded data removed]",
      "text/plain": [
       "<matplotlib.figure.Figure at 0x113113f28>"
      ]
     },
     "metadata": {},
     "output_type": "display_data"
    }
   ],
   "source": [
    "# Create a plot  \n",
    "date_info_df.plot.bar(figsize=(25, 6))\n",
    "plt.ylabel(\"Crime Count\")\n",
    "# plt.xlabel(\"Date\")\n",
    "plt.title(\"Day by day Chicago Crime report based on Chiraq Homicide Tweets\")\n",
    "plt.show()"
   ]
  },
  {
   "cell_type": "code",
   "execution_count": 12,
   "metadata": {},
   "outputs": [
    {
     "data": {
      "text/plain": [
       "dict_keys(['created_at', 'id', 'id_str', 'text', 'truncated', 'entities', 'extended_entities', 'source', 'in_reply_to_status_id', 'in_reply_to_status_id_str', 'in_reply_to_user_id', 'in_reply_to_user_id_str', 'in_reply_to_screen_name', 'user', 'geo', 'coordinates', 'place', 'contributors', 'is_quote_status', 'retweet_count', 'favorite_count', 'favorited', 'retweeted', 'possibly_sensitive', 'lang'])"
      ]
     },
     "execution_count": 12,
     "metadata": {},
     "output_type": "execute_result"
    }
   ],
   "source": [
    "all_tweets[0].keys()"
   ]
  },
  {
   "cell_type": "code",
   "execution_count": 13,
   "metadata": {
    "collapsed": true
   },
   "outputs": [
    {
     "name": "stdout",
     "output_type": "stream",
     "text": [
      "{'contributors': None,\n",
      " 'coordinates': None,\n",
      " 'created_at': 'Thu Mar 08 05:01:26 +0000 2018',\n",
      " 'entities': {'hashtags': [],\n",
      "              'media': [{'display_url': 'pic.twitter.com/cPMyMSUnQk',\n",
      "                         'expanded_url': 'https://twitter.com/CSTbreaking/status/971226623109365761/photo/1',\n",
      "                         'id': 971226620345200640,\n",
      "                         'id_str': '971226620345200640',\n",
      "                         'indices': [49, 72],\n",
      "                         'media_url': 'http://pbs.twimg.com/media/DXp9dyYUMAAZDIM.jpg',\n",
      "                         'media_url_https': 'https://pbs.twimg.com/media/DXp9dyYUMAAZDIM.jpg',\n",
      "                         'sizes': {'large': {'h': 259,\n",
      "                                             'resize': 'fit',\n",
      "                                             'w': 396},\n",
      "                                   'medium': {'h': 259,\n",
      "                                              'resize': 'fit',\n",
      "                                              'w': 396},\n",
      "                                   'small': {'h': 259,\n",
      "                                             'resize': 'fit',\n",
      "                                             'w': 396},\n",
      "                                   'thumb': {'h': 150,\n",
      "                                             'resize': 'crop',\n",
      "                                             'w': 150}},\n",
      "                         'source_status_id': 971226623109365761,\n",
      "                         'source_status_id_str': '971226623109365761',\n",
      "                         'source_user_id': 2382642386,\n",
      "                         'source_user_id_str': '2382642386',\n",
      "                         'type': 'photo',\n",
      "                         'url': 'https://t.co/cPMyMSUnQk'}],\n",
      "              'symbols': [],\n",
      "              'urls': [{'display_url': 'bit.ly/2FtmypB',\n",
      "                        'expanded_url': 'http://bit.ly/2FtmypB',\n",
      "                        'indices': [25, 48],\n",
      "                        'url': 'https://t.co/STNbZjWq03'}],\n",
      "              'user_mentions': []},\n",
      " 'extended_entities': {'media': [{'display_url': 'pic.twitter.com/cPMyMSUnQk',\n",
      "                                  'expanded_url': 'https://twitter.com/CSTbreaking/status/971226623109365761/photo/1',\n",
      "                                  'id': 971226620345200640,\n",
      "                                  'id_str': '971226620345200640',\n",
      "                                  'indices': [49, 72],\n",
      "                                  'media_url': 'http://pbs.twimg.com/media/DXp9dyYUMAAZDIM.jpg',\n",
      "                                  'media_url_https': 'https://pbs.twimg.com/media/DXp9dyYUMAAZDIM.jpg',\n",
      "                                  'sizes': {'large': {'h': 259,\n",
      "                                                      'resize': 'fit',\n",
      "                                                      'w': 396},\n",
      "                                            'medium': {'h': 259,\n",
      "                                                       'resize': 'fit',\n",
      "                                                       'w': 396},\n",
      "                                            'small': {'h': 259,\n",
      "                                                      'resize': 'fit',\n",
      "                                                      'w': 396},\n",
      "                                            'thumb': {'h': 150,\n",
      "                                                      'resize': 'crop',\n",
      "                                                      'w': 150}},\n",
      "                                  'source_status_id': 971226623109365761,\n",
      "                                  'source_status_id_str': '971226623109365761',\n",
      "                                  'source_user_id': 2382642386,\n",
      "                                  'source_user_id_str': '2382642386',\n",
      "                                  'type': 'photo',\n",
      "                                  'url': 'https://t.co/cPMyMSUnQk'}]},\n",
      " 'favorite_count': 0,\n",
      " 'favorited': False,\n",
      " 'geo': None,\n",
      " 'id': 971611828022333440,\n",
      " 'id_str': '971611828022333440',\n",
      " 'in_reply_to_screen_name': None,\n",
      " 'in_reply_to_status_id': None,\n",
      " 'in_reply_to_status_id_str': None,\n",
      " 'in_reply_to_user_id': None,\n",
      " 'in_reply_to_user_id_str': None,\n",
      " 'is_quote_status': False,\n",
      " 'lang': 'en',\n",
      " 'place': None,\n",
      " 'possibly_sensitive': False,\n",
      " 'retweet_count': 1,\n",
      " 'retweeted': False,\n",
      " 'source': '<a href=\"http://twitter.com/download/android\" '\n",
      "           'rel=\"nofollow\">Twitter for Android</a>',\n",
      " 'text': 'Man, 43, shot in Gresham\\n'\n",
      "         'https://t.co/STNbZjWq03 https://t.co/cPMyMSUnQk',\n",
      " 'truncated': False,\n",
      " 'user': {'contributors_enabled': False,\n",
      "          'created_at': 'Wed Jan 30 05:42:25 +0000 2013',\n",
      "          'default_profile': False,\n",
      "          'default_profile_image': False,\n",
      "          'description': 'Here to inform citizens of where violence is '\n",
      "                         'occurring in Chicago and to provide a public record '\n",
      "                         'of the violence. No Chat, No Glory, Just The '\n",
      "                         'Stories!',\n",
      "          'entities': {'description': {'urls': []},\n",
      "                       'url': {'urls': [{'display_url': 'tinyurl.com/k9w9cbl',\n",
      "                                         'expanded_url': 'http://tinyurl.com/k9w9cbl',\n",
      "                                         'indices': [0, 22],\n",
      "                                         'url': 'http://t.co/jiSyilRz3S'}]}},\n",
      "          'favourites_count': 0,\n",
      "          'follow_request_sent': False,\n",
      "          'followers_count': 4428,\n",
      "          'following': True,\n",
      "          'friends_count': 0,\n",
      "          'geo_enabled': False,\n",
      "          'has_extended_profile': False,\n",
      "          'id': 1133072065,\n",
      "          'id_str': '1133072065',\n",
      "          'is_translation_enabled': False,\n",
      "          'is_translator': False,\n",
      "          'lang': 'en',\n",
      "          'listed_count': 64,\n",
      "          'location': 'Chicago, Illinois  ',\n",
      "          'name': 'Chiraq Homicide',\n",
      "          'notifications': False,\n",
      "          'profile_background_color': '910505',\n",
      "          'profile_background_image_url': 'http://pbs.twimg.com/profile_background_images/378800000061209539/64d23e00e3927ed5bc914c4aecb0ae3a.gif',\n",
      "          'profile_background_image_url_https': 'https://pbs.twimg.com/profile_background_images/378800000061209539/64d23e00e3927ed5bc914c4aecb0ae3a.gif',\n",
      "          'profile_background_tile': True,\n",
      "          'profile_banner_url': 'https://pbs.twimg.com/profile_banners/1133072065/1398243655',\n",
      "          'profile_image_url': 'http://pbs.twimg.com/profile_images/462784928543821825/NEd5ksnO_normal.png',\n",
      "          'profile_image_url_https': 'https://pbs.twimg.com/profile_images/462784928543821825/NEd5ksnO_normal.png',\n",
      "          'profile_link_color': 'BD0D0D',\n",
      "          'profile_sidebar_border_color': '000000',\n",
      "          'profile_sidebar_fill_color': 'DDEEF6',\n",
      "          'profile_text_color': '333333',\n",
      "          'profile_use_background_image': True,\n",
      "          'protected': False,\n",
      "          'screen_name': 'ChiraqHomicide',\n",
      "          'statuses_count': 15808,\n",
      "          'time_zone': 'Central Time (US & Canada)',\n",
      "          'translator_type': 'none',\n",
      "          'url': 'http://t.co/jiSyilRz3S',\n",
      "          'utc_offset': -21600,\n",
      "          'verified': False}}\n"
     ]
    }
   ],
   "source": [
    "pprint(all_tweets[0])"
   ]
  },
  {
   "cell_type": "code",
   "execution_count": 76,
   "metadata": {
    "collapsed": true
   },
   "outputs": [],
   "source": [
    "tweet_df = pd.DataFrame({\n",
    "    \"TimeStamp\": tweet_times,\n",
    "    \"Date\": date_list,\n",
    "    \"Converted Time\": converted_timestamps,\n",
    "    \"Text\": tweet_texts\n",
    "})\n",
    "tweet_df = tweet_df[[\"Date\", \"Text\", \"TimeStamp\", \"Converted Time\"]]"
   ]
  },
  {
   "cell_type": "code",
   "execution_count": 23,
   "metadata": {},
   "outputs": [
    {
     "data": {
      "text/html": [
       "<div>\n",
       "<style>\n",
       "    .dataframe thead tr:only-child th {\n",
       "        text-align: right;\n",
       "    }\n",
       "\n",
       "    .dataframe thead th {\n",
       "        text-align: left;\n",
       "    }\n",
       "\n",
       "    .dataframe tbody tr th {\n",
       "        vertical-align: top;\n",
       "    }\n",
       "</style>\n",
       "<table border=\"1\" class=\"dataframe\">\n",
       "  <thead>\n",
       "    <tr style=\"text-align: right;\">\n",
       "      <th></th>\n",
       "      <th>Date</th>\n",
       "      <th>Text</th>\n",
       "      <th>TimeStamp</th>\n",
       "      <th>Converted Time</th>\n",
       "    </tr>\n",
       "  </thead>\n",
       "  <tbody>\n",
       "    <tr>\n",
       "      <th>0</th>\n",
       "      <td>2018-3-8</td>\n",
       "      <td>Man, 43, shot in Gresham\\nhttps://t.co/STNbZjW...</td>\n",
       "      <td>Thu Mar 08 05:01:26 +0000 2018</td>\n",
       "      <td>2018-03-08 05:01:26+00:00</td>\n",
       "    </tr>\n",
       "    <tr>\n",
       "      <th>1</th>\n",
       "      <td>2018-3-8</td>\n",
       "      <td>Man critically wounded in Austin drive-by shoo...</td>\n",
       "      <td>Thu Mar 08 05:00:57 +0000 2018</td>\n",
       "      <td>2018-03-08 05:00:57+00:00</td>\n",
       "    </tr>\n",
       "    <tr>\n",
       "      <th>2</th>\n",
       "      <td>2018-3-8</td>\n",
       "      <td>Married couple shot in targeted home invasion ...</td>\n",
       "      <td>Thu Mar 08 05:00:40 +0000 2018</td>\n",
       "      <td>2018-03-08 05:00:40+00:00</td>\n",
       "    </tr>\n",
       "    <tr>\n",
       "      <th>3</th>\n",
       "      <td>2018-3-8</td>\n",
       "      <td>Boy, 17, shot to death in Humboldt Park \\n\\nht...</td>\n",
       "      <td>Thu Mar 08 04:59:57 +0000 2018</td>\n",
       "      <td>2018-03-08 04:59:57+00:00</td>\n",
       "    </tr>\n",
       "    <tr>\n",
       "      <th>4</th>\n",
       "      <td>2018-3-8</td>\n",
       "      <td>23-year-old man shot while sitting in car in C...</td>\n",
       "      <td>Thu Mar 08 04:59:03 +0000 2018</td>\n",
       "      <td>2018-03-08 04:59:03+00:00</td>\n",
       "    </tr>\n",
       "    <tr>\n",
       "      <th>5</th>\n",
       "      <td>2018-3-8</td>\n",
       "      <td>Man shot on Northwest Side https://t.co/JWoqVM...</td>\n",
       "      <td>Thu Mar 08 04:58:17 +0000 2018</td>\n",
       "      <td>2018-03-08 04:58:17+00:00</td>\n",
       "    </tr>\n",
       "    <tr>\n",
       "      <th>6</th>\n",
       "      <td>2018-3-8</td>\n",
       "      <td>Three youths were shot in a possible gang-rela...</td>\n",
       "      <td>Thu Mar 08 04:56:41 +0000 2018</td>\n",
       "      <td>2018-03-08 04:56:41+00:00</td>\n",
       "    </tr>\n",
       "    <tr>\n",
       "      <th>7</th>\n",
       "      <td>2018-3-8</td>\n",
       "      <td>2 shot in mile-long crime scene in Robbins: ht...</td>\n",
       "      <td>Thu Mar 08 04:51:58 +0000 2018</td>\n",
       "      <td>2018-03-08 04:51:58+00:00</td>\n",
       "    </tr>\n",
       "    <tr>\n",
       "      <th>8</th>\n",
       "      <td>2018-3-6</td>\n",
       "      <td>Man shot while cutting hair at Woodlawn apartm...</td>\n",
       "      <td>Tue Mar 06 22:33:52 +0000 2018</td>\n",
       "      <td>2018-03-06 22:33:52+00:00</td>\n",
       "    </tr>\n",
       "    <tr>\n",
       "      <th>9</th>\n",
       "      <td>2018-3-6</td>\n",
       "      <td>Delivery driver hit with hammer, robbed\\n\\nhtt...</td>\n",
       "      <td>Tue Mar 06 22:33:22 +0000 2018</td>\n",
       "      <td>2018-03-06 22:33:22+00:00</td>\n",
       "    </tr>\n",
       "  </tbody>\n",
       "</table>\n",
       "</div>"
      ],
      "text/plain": [
       "       Date                                               Text  \\\n",
       "0  2018-3-8  Man, 43, shot in Gresham\\nhttps://t.co/STNbZjW...   \n",
       "1  2018-3-8  Man critically wounded in Austin drive-by shoo...   \n",
       "2  2018-3-8  Married couple shot in targeted home invasion ...   \n",
       "3  2018-3-8  Boy, 17, shot to death in Humboldt Park \\n\\nht...   \n",
       "4  2018-3-8  23-year-old man shot while sitting in car in C...   \n",
       "5  2018-3-8  Man shot on Northwest Side https://t.co/JWoqVM...   \n",
       "6  2018-3-8  Three youths were shot in a possible gang-rela...   \n",
       "7  2018-3-8  2 shot in mile-long crime scene in Robbins: ht...   \n",
       "8  2018-3-6  Man shot while cutting hair at Woodlawn apartm...   \n",
       "9  2018-3-6  Delivery driver hit with hammer, robbed\\n\\nhtt...   \n",
       "\n",
       "                        TimeStamp            Converted Time  \n",
       "0  Thu Mar 08 05:01:26 +0000 2018 2018-03-08 05:01:26+00:00  \n",
       "1  Thu Mar 08 05:00:57 +0000 2018 2018-03-08 05:00:57+00:00  \n",
       "2  Thu Mar 08 05:00:40 +0000 2018 2018-03-08 05:00:40+00:00  \n",
       "3  Thu Mar 08 04:59:57 +0000 2018 2018-03-08 04:59:57+00:00  \n",
       "4  Thu Mar 08 04:59:03 +0000 2018 2018-03-08 04:59:03+00:00  \n",
       "5  Thu Mar 08 04:58:17 +0000 2018 2018-03-08 04:58:17+00:00  \n",
       "6  Thu Mar 08 04:56:41 +0000 2018 2018-03-08 04:56:41+00:00  \n",
       "7  Thu Mar 08 04:51:58 +0000 2018 2018-03-08 04:51:58+00:00  \n",
       "8  Tue Mar 06 22:33:52 +0000 2018 2018-03-06 22:33:52+00:00  \n",
       "9  Tue Mar 06 22:33:22 +0000 2018 2018-03-06 22:33:22+00:00  "
      ]
     },
     "execution_count": 23,
     "metadata": {},
     "output_type": "execute_result"
    }
   ],
   "source": [
    "tweet_df.head(10)"
   ]
  },
  {
   "cell_type": "code",
   "execution_count": 24,
   "metadata": {
    "collapsed": true
   },
   "outputs": [],
   "source": [
    "tweet_df.to_csv(\"ChiraqTweets01.csv\")"
   ]
  },
  {
   "cell_type": "code",
   "execution_count": 44,
   "metadata": {
    "collapsed": true
   },
   "outputs": [],
   "source": [
    "tweet_date_df = pd.DataFrame(tweet_df.groupby(\"Date\").size()).reset_index()"
   ]
  },
  {
   "cell_type": "code",
   "execution_count": 47,
   "metadata": {},
   "outputs": [
    {
     "data": {
      "text/html": [
       "<div>\n",
       "<style>\n",
       "    .dataframe thead tr:only-child th {\n",
       "        text-align: right;\n",
       "    }\n",
       "\n",
       "    .dataframe thead th {\n",
       "        text-align: left;\n",
       "    }\n",
       "\n",
       "    .dataframe tbody tr th {\n",
       "        vertical-align: top;\n",
       "    }\n",
       "</style>\n",
       "<table border=\"1\" class=\"dataframe\">\n",
       "  <thead>\n",
       "    <tr style=\"text-align: right;\">\n",
       "      <th></th>\n",
       "      <th>Date</th>\n",
       "      <th>Count</th>\n",
       "    </tr>\n",
       "  </thead>\n",
       "  <tbody>\n",
       "    <tr>\n",
       "      <th>0</th>\n",
       "      <td>2017-10-12</td>\n",
       "      <td>10</td>\n",
       "    </tr>\n",
       "    <tr>\n",
       "      <th>1</th>\n",
       "      <td>2017-10-13</td>\n",
       "      <td>12</td>\n",
       "    </tr>\n",
       "    <tr>\n",
       "      <th>2</th>\n",
       "      <td>2017-10-14</td>\n",
       "      <td>7</td>\n",
       "    </tr>\n",
       "    <tr>\n",
       "      <th>3</th>\n",
       "      <td>2017-10-15</td>\n",
       "      <td>6</td>\n",
       "    </tr>\n",
       "    <tr>\n",
       "      <th>4</th>\n",
       "      <td>2017-10-16</td>\n",
       "      <td>10</td>\n",
       "    </tr>\n",
       "  </tbody>\n",
       "</table>\n",
       "</div>"
      ],
      "text/plain": [
       "         Date  Count\n",
       "0  2017-10-12     10\n",
       "1  2017-10-13     12\n",
       "2  2017-10-14      7\n",
       "3  2017-10-15      6\n",
       "4  2017-10-16     10"
      ]
     },
     "execution_count": 47,
     "metadata": {},
     "output_type": "execute_result"
    }
   ],
   "source": [
    "tweet_date_df.columns = [\"Date\", \"Count\"]\n",
    "tweet_date_df.head()"
   ]
  },
  {
   "cell_type": "code",
   "execution_count": 49,
   "metadata": {},
   "outputs": [
    {
     "data": {
      "text/html": [
       "<div>\n",
       "<style>\n",
       "    .dataframe thead tr:only-child th {\n",
       "        text-align: right;\n",
       "    }\n",
       "\n",
       "    .dataframe thead th {\n",
       "        text-align: left;\n",
       "    }\n",
       "\n",
       "    .dataframe tbody tr th {\n",
       "        vertical-align: top;\n",
       "    }\n",
       "</style>\n",
       "<table border=\"1\" class=\"dataframe\">\n",
       "  <thead>\n",
       "    <tr style=\"text-align: right;\">\n",
       "      <th></th>\n",
       "      <th>Date</th>\n",
       "      <th>Count</th>\n",
       "      <th>Accum</th>\n",
       "    </tr>\n",
       "  </thead>\n",
       "  <tbody>\n",
       "    <tr>\n",
       "      <th>0</th>\n",
       "      <td>2017-10-12</td>\n",
       "      <td>10</td>\n",
       "      <td></td>\n",
       "    </tr>\n",
       "    <tr>\n",
       "      <th>1</th>\n",
       "      <td>2017-10-13</td>\n",
       "      <td>12</td>\n",
       "      <td></td>\n",
       "    </tr>\n",
       "    <tr>\n",
       "      <th>2</th>\n",
       "      <td>2017-10-14</td>\n",
       "      <td>7</td>\n",
       "      <td></td>\n",
       "    </tr>\n",
       "    <tr>\n",
       "      <th>3</th>\n",
       "      <td>2017-10-15</td>\n",
       "      <td>6</td>\n",
       "      <td></td>\n",
       "    </tr>\n",
       "    <tr>\n",
       "      <th>4</th>\n",
       "      <td>2017-10-16</td>\n",
       "      <td>10</td>\n",
       "      <td></td>\n",
       "    </tr>\n",
       "  </tbody>\n",
       "</table>\n",
       "</div>"
      ],
      "text/plain": [
       "         Date  Count Accum\n",
       "0  2017-10-12     10      \n",
       "1  2017-10-13     12      \n",
       "2  2017-10-14      7      \n",
       "3  2017-10-15      6      \n",
       "4  2017-10-16     10      "
      ]
     },
     "execution_count": 49,
     "metadata": {},
     "output_type": "execute_result"
    }
   ],
   "source": [
    "tweet_date_df[\"Accum\"] = \"\"\n",
    "tweet_date_df.head()"
   ]
  },
  {
   "cell_type": "code",
   "execution_count": 53,
   "metadata": {},
   "outputs": [
    {
     "data": {
      "text/html": [
       "<div>\n",
       "<style>\n",
       "    .dataframe thead tr:only-child th {\n",
       "        text-align: right;\n",
       "    }\n",
       "\n",
       "    .dataframe thead th {\n",
       "        text-align: left;\n",
       "    }\n",
       "\n",
       "    .dataframe tbody tr th {\n",
       "        vertical-align: top;\n",
       "    }\n",
       "</style>\n",
       "<table border=\"1\" class=\"dataframe\">\n",
       "  <thead>\n",
       "    <tr style=\"text-align: right;\">\n",
       "      <th></th>\n",
       "      <th>Date</th>\n",
       "      <th>Count</th>\n",
       "      <th>Accum</th>\n",
       "    </tr>\n",
       "  </thead>\n",
       "  <tbody>\n",
       "    <tr>\n",
       "      <th>0</th>\n",
       "      <td>2017-10-12</td>\n",
       "      <td>10</td>\n",
       "      <td>10</td>\n",
       "    </tr>\n",
       "    <tr>\n",
       "      <th>1</th>\n",
       "      <td>2017-10-13</td>\n",
       "      <td>12</td>\n",
       "      <td>22</td>\n",
       "    </tr>\n",
       "    <tr>\n",
       "      <th>2</th>\n",
       "      <td>2017-10-14</td>\n",
       "      <td>7</td>\n",
       "      <td>29</td>\n",
       "    </tr>\n",
       "    <tr>\n",
       "      <th>3</th>\n",
       "      <td>2017-10-15</td>\n",
       "      <td>6</td>\n",
       "      <td>35</td>\n",
       "    </tr>\n",
       "    <tr>\n",
       "      <th>4</th>\n",
       "      <td>2017-10-16</td>\n",
       "      <td>10</td>\n",
       "      <td>45</td>\n",
       "    </tr>\n",
       "  </tbody>\n",
       "</table>\n",
       "</div>"
      ],
      "text/plain": [
       "         Date  Count Accum\n",
       "0  2017-10-12     10    10\n",
       "1  2017-10-13     12    22\n",
       "2  2017-10-14      7    29\n",
       "3  2017-10-15      6    35\n",
       "4  2017-10-16     10    45"
      ]
     },
     "execution_count": 53,
     "metadata": {},
     "output_type": "execute_result"
    }
   ],
   "source": [
    "accum = 0\n",
    "for index, row in tweet_date_df.iterrows():\n",
    "    accum = accum + row[\"Count\"]\n",
    "    tweet_date_df.set_value(index, \"Accum\", accum)\n",
    "tweet_date_df.head()"
   ]
  },
  {
   "cell_type": "code",
   "execution_count": 66,
   "metadata": {
    "collapsed": true
   },
   "outputs": [],
   "source": [
    "tweet_date_df.to_csv(\"ChiraqTweets02.csv\")"
   ]
  },
  {
   "cell_type": "code",
   "execution_count": 65,
   "metadata": {},
   "outputs": [
    {
     "data": {
      "image/png": "[encoded data removed]",
      "text/plain": [
       "<matplotlib.figure.Figure at 0x114af2b00>"
      ]
     },
     "metadata": {},
     "output_type": "display_data"
    }
   ],
   "source": [
    "ax = tweet_date_df.plot.line(\"Date\", \"Accum\", figsize=(25, 6))\n",
    "tweet_date_df.plot.bar(\"Date\", \"Count\", figsize=(25,6), ax = ax)\n",
    "plt.show()"
   ]
  },
  {
   "cell_type": "code",
   "execution_count": 108,
   "metadata": {},
   "outputs": [
    {
     "data": {
      "text/html": [
       "<div>\n",
       "<style>\n",
       "    .dataframe thead tr:only-child th {\n",
       "        text-align: right;\n",
       "    }\n",
       "\n",
       "    .dataframe thead th {\n",
       "        text-align: left;\n",
       "    }\n",
       "\n",
       "    .dataframe tbody tr th {\n",
       "        vertical-align: top;\n",
       "    }\n",
       "</style>\n",
       "<table border=\"1\" class=\"dataframe\">\n",
       "  <thead>\n",
       "    <tr style=\"text-align: right;\">\n",
       "      <th></th>\n",
       "      <th>Date</th>\n",
       "      <th>Text</th>\n",
       "      <th>TimeStamp</th>\n",
       "      <th>Converted Time</th>\n",
       "      <th>Shooting</th>\n",
       "    </tr>\n",
       "  </thead>\n",
       "  <tbody>\n",
       "    <tr>\n",
       "      <th>0</th>\n",
       "      <td>2018-3-8</td>\n",
       "      <td>Man, 43, shot in Gresham\\nhttps://t.co/STNbZjW...</td>\n",
       "      <td>Thu Mar 08 05:01:26 +0000 2018</td>\n",
       "      <td>2018-03-08 05:01:26+00:00</td>\n",
       "      <td>0</td>\n",
       "    </tr>\n",
       "    <tr>\n",
       "      <th>1</th>\n",
       "      <td>2018-3-8</td>\n",
       "      <td>Man critically wounded in Austin drive-by shoo...</td>\n",
       "      <td>Thu Mar 08 05:00:57 +0000 2018</td>\n",
       "      <td>2018-03-08 05:00:57+00:00</td>\n",
       "      <td>0</td>\n",
       "    </tr>\n",
       "    <tr>\n",
       "      <th>2</th>\n",
       "      <td>2018-3-8</td>\n",
       "      <td>Married couple shot in targeted home invasion ...</td>\n",
       "      <td>Thu Mar 08 05:00:40 +0000 2018</td>\n",
       "      <td>2018-03-08 05:00:40+00:00</td>\n",
       "      <td>0</td>\n",
       "    </tr>\n",
       "    <tr>\n",
       "      <th>3</th>\n",
       "      <td>2018-3-8</td>\n",
       "      <td>Boy, 17, shot to death in Humboldt Park \\n\\nht...</td>\n",
       "      <td>Thu Mar 08 04:59:57 +0000 2018</td>\n",
       "      <td>2018-03-08 04:59:57+00:00</td>\n",
       "      <td>0</td>\n",
       "    </tr>\n",
       "    <tr>\n",
       "      <th>4</th>\n",
       "      <td>2018-3-8</td>\n",
       "      <td>23-year-old man shot while sitting in car in C...</td>\n",
       "      <td>Thu Mar 08 04:59:03 +0000 2018</td>\n",
       "      <td>2018-03-08 04:59:03+00:00</td>\n",
       "      <td>0</td>\n",
       "    </tr>\n",
       "  </tbody>\n",
       "</table>\n",
       "</div>"
      ],
      "text/plain": [
       "       Date                                               Text  \\\n",
       "0  2018-3-8  Man, 43, shot in Gresham\\nhttps://t.co/STNbZjW...   \n",
       "1  2018-3-8  Man critically wounded in Austin drive-by shoo...   \n",
       "2  2018-3-8  Married couple shot in targeted home invasion ...   \n",
       "3  2018-3-8  Boy, 17, shot to death in Humboldt Park \\n\\nht...   \n",
       "4  2018-3-8  23-year-old man shot while sitting in car in C...   \n",
       "\n",
       "                        TimeStamp            Converted Time  Shooting  \n",
       "0  Thu Mar 08 05:01:26 +0000 2018 2018-03-08 05:01:26+00:00         0  \n",
       "1  Thu Mar 08 05:00:57 +0000 2018 2018-03-08 05:00:57+00:00         0  \n",
       "2  Thu Mar 08 05:00:40 +0000 2018 2018-03-08 05:00:40+00:00         0  \n",
       "3  Thu Mar 08 04:59:57 +0000 2018 2018-03-08 04:59:57+00:00         0  \n",
       "4  Thu Mar 08 04:59:03 +0000 2018 2018-03-08 04:59:03+00:00         0  "
      ]
     },
     "execution_count": 108,
     "metadata": {},
     "output_type": "execute_result"
    }
   ],
   "source": [
    "tweet_df[\"Shooting\"] = 0\n",
    "tweet_df.head()"
   ]
  },
  {
   "cell_type": "code",
   "execution_count": 109,
   "metadata": {
    "collapsed": true
   },
   "outputs": [],
   "source": [
    "for index, row in tweet_df.iterrows():\n",
    "    tx = row[\"Text\"].lower()\n",
    "    if (\"shot\" in tx or \"shooting\" in tx or \"shoots\" in tx or \"gun\" in tx or\n",
    "        \"bullet\" in tx or \"crossfire\" in tx or \"shootout\" in tx):\n",
    "        tweet_df.set_value(index, \"Shooting\", 1)"
   ]
  },
  {
   "cell_type": "code",
   "execution_count": 110,
   "metadata": {},
   "outputs": [
    {
     "data": {
      "text/html": [
       "<div>\n",
       "<style>\n",
       "    .dataframe thead tr:only-child th {\n",
       "        text-align: right;\n",
       "    }\n",
       "\n",
       "    .dataframe thead th {\n",
       "        text-align: left;\n",
       "    }\n",
       "\n",
       "    .dataframe tbody tr th {\n",
       "        vertical-align: top;\n",
       "    }\n",
       "</style>\n",
       "<table border=\"1\" class=\"dataframe\">\n",
       "  <thead>\n",
       "    <tr style=\"text-align: right;\">\n",
       "      <th></th>\n",
       "      <th>Date</th>\n",
       "      <th>Text</th>\n",
       "      <th>TimeStamp</th>\n",
       "      <th>Converted Time</th>\n",
       "      <th>Shooting</th>\n",
       "    </tr>\n",
       "  </thead>\n",
       "  <tbody>\n",
       "    <tr>\n",
       "      <th>0</th>\n",
       "      <td>2018-3-8</td>\n",
       "      <td>Man, 43, shot in Gresham\\nhttps://t.co/STNbZjW...</td>\n",
       "      <td>Thu Mar 08 05:01:26 +0000 2018</td>\n",
       "      <td>2018-03-08 05:01:26+00:00</td>\n",
       "      <td>1</td>\n",
       "    </tr>\n",
       "    <tr>\n",
       "      <th>1</th>\n",
       "      <td>2018-3-8</td>\n",
       "      <td>Man critically wounded in Austin drive-by shoo...</td>\n",
       "      <td>Thu Mar 08 05:00:57 +0000 2018</td>\n",
       "      <td>2018-03-08 05:00:57+00:00</td>\n",
       "      <td>1</td>\n",
       "    </tr>\n",
       "    <tr>\n",
       "      <th>2</th>\n",
       "      <td>2018-3-8</td>\n",
       "      <td>Married couple shot in targeted home invasion ...</td>\n",
       "      <td>Thu Mar 08 05:00:40 +0000 2018</td>\n",
       "      <td>2018-03-08 05:00:40+00:00</td>\n",
       "      <td>1</td>\n",
       "    </tr>\n",
       "    <tr>\n",
       "      <th>3</th>\n",
       "      <td>2018-3-8</td>\n",
       "      <td>Boy, 17, shot to death in Humboldt Park \\n\\nht...</td>\n",
       "      <td>Thu Mar 08 04:59:57 +0000 2018</td>\n",
       "      <td>2018-03-08 04:59:57+00:00</td>\n",
       "      <td>1</td>\n",
       "    </tr>\n",
       "    <tr>\n",
       "      <th>4</th>\n",
       "      <td>2018-3-8</td>\n",
       "      <td>23-year-old man shot while sitting in car in C...</td>\n",
       "      <td>Thu Mar 08 04:59:03 +0000 2018</td>\n",
       "      <td>2018-03-08 04:59:03+00:00</td>\n",
       "      <td>1</td>\n",
       "    </tr>\n",
       "  </tbody>\n",
       "</table>\n",
       "</div>"
      ],
      "text/plain": [
       "       Date                                               Text  \\\n",
       "0  2018-3-8  Man, 43, shot in Gresham\\nhttps://t.co/STNbZjW...   \n",
       "1  2018-3-8  Man critically wounded in Austin drive-by shoo...   \n",
       "2  2018-3-8  Married couple shot in targeted home invasion ...   \n",
       "3  2018-3-8  Boy, 17, shot to death in Humboldt Park \\n\\nht...   \n",
       "4  2018-3-8  23-year-old man shot while sitting in car in C...   \n",
       "\n",
       "                        TimeStamp            Converted Time  Shooting  \n",
       "0  Thu Mar 08 05:01:26 +0000 2018 2018-03-08 05:01:26+00:00         1  \n",
       "1  Thu Mar 08 05:00:57 +0000 2018 2018-03-08 05:00:57+00:00         1  \n",
       "2  Thu Mar 08 05:00:40 +0000 2018 2018-03-08 05:00:40+00:00         1  \n",
       "3  Thu Mar 08 04:59:57 +0000 2018 2018-03-08 04:59:57+00:00         1  \n",
       "4  Thu Mar 08 04:59:03 +0000 2018 2018-03-08 04:59:03+00:00         1  "
      ]
     },
     "execution_count": 110,
     "metadata": {},
     "output_type": "execute_result"
    }
   ],
   "source": [
    "tweet_df.head()"
   ]
  },
  {
   "cell_type": "code",
   "execution_count": 111,
   "metadata": {
    "collapsed": true
   },
   "outputs": [],
   "source": [
    "tweet_df.to_csv(\"ChiraqTweets01.csv\")"
   ]
  },
  {
   "cell_type": "code",
   "execution_count": 112,
   "metadata": {},
   "outputs": [
    {
     "data": {
      "text/plain": [
       "1    902\n",
       "0     98\n",
       "Name: Shooting, dtype: int64"
      ]
     },
     "execution_count": 112,
     "metadata": {},
     "output_type": "execute_result"
    }
   ],
   "source": [
    "tweet_df[\"Shooting\"].value_counts()"
   ]
  },
  {
   "cell_type": "code",
   "execution_count": 113,
   "metadata": {
    "collapsed": true
   },
   "outputs": [
    {
     "data": {
      "text/plain": [
       "Date\n",
       "2017-10-12    10\n",
       "2017-10-13    12\n",
       "2017-10-14     7\n",
       "2017-10-15     6\n",
       "2017-10-16    10\n",
       "2017-10-18     9\n",
       "2017-10-20     9\n",
       "2017-10-21     9\n",
       "2017-10-22    17\n",
       "2017-10-23    17\n",
       "2017-10-24     6\n",
       "2017-10-25     4\n",
       "2017-10-27    18\n",
       "2017-10-28     8\n",
       "2017-10-30     6\n",
       "2017-11-12    26\n",
       "2017-11-13     6\n",
       "2017-11-14     5\n",
       "2017-11-15     7\n",
       "2017-11-16     7\n",
       "2017-11-17     5\n",
       "2017-11-18     6\n",
       "2017-11-19     3\n",
       "2017-11-2     26\n",
       "2017-11-20     8\n",
       "2017-11-21     2\n",
       "2017-11-22     6\n",
       "2017-11-23     1\n",
       "2017-11-25    21\n",
       "2017-11-28     9\n",
       "              ..\n",
       "2018-1-15      7\n",
       "2018-1-17     15\n",
       "2018-1-20     16\n",
       "2018-1-21     16\n",
       "2018-1-22     15\n",
       "2018-1-25     10\n",
       "2018-1-26      5\n",
       "2018-1-28     15\n",
       "2018-1-31     16\n",
       "2018-1-5      24\n",
       "2018-2-10      9\n",
       "2018-2-13     14\n",
       "2018-2-14     13\n",
       "2018-2-18     39\n",
       "2018-2-19      3\n",
       "2018-2-21     18\n",
       "2018-2-24     17\n",
       "2018-2-25      9\n",
       "2018-2-27     18\n",
       "2018-2-28      6\n",
       "2018-2-4      10\n",
       "2018-2-5       2\n",
       "2018-2-7      14\n",
       "2018-2-8       3\n",
       "2018-3-1       2\n",
       "2018-3-2       7\n",
       "2018-3-3       8\n",
       "2018-3-5      18\n",
       "2018-3-6       8\n",
       "2018-3-8      16\n",
       "Name: Shooting, Length: 91, dtype: int64"
      ]
     },
     "execution_count": 113,
     "metadata": {},
     "output_type": "execute_result"
    }
   ],
   "source": [
    "tweet_df.groupby(\"Date\")[\"Shooting\"].size()"
   ]
  },
  {
   "cell_type": "code",
   "execution_count": 115,
   "metadata": {
    "collapsed": true
   },
   "outputs": [],
   "source": [
    "from chicago import NEIGHBORHOODS\n",
    "from chicago import COMMUNITY_AREAS"
   ]
  },
  {
   "cell_type": "code",
   "execution_count": 121,
   "metadata": {
    "collapsed": true
   },
   "outputs": [],
   "source": [
    "community_list = []\n",
    "for ca in COMMUNITY_AREAS:\n",
    "    community_list.append(ca.name)\n",
    "neighborhood_list = []\n",
    "for n in NEIGHBORHOODS:\n",
    "    neighborhood_list.append(n.name)"
   ]
  },
  {
   "cell_type": "code",
   "execution_count": 123,
   "metadata": {},
   "outputs": [
    {
     "name": "stdout",
     "output_type": "stream",
     "text": [
      "['Rogers Park', 'West Ridge', 'Uptown', 'Lincoln Square', 'North Center', 'Lake View', 'Lincoln Park', 'Near North Side', 'Edison Park', 'Norwood Park']\n"
     ]
    }
   ],
   "source": [
    "print(community_list[:10])"
   ]
  },
  {
   "cell_type": "code",
   "execution_count": 124,
   "metadata": {},
   "outputs": [
    {
     "data": {
      "text/html": [
       "<div>\n",
       "<style>\n",
       "    .dataframe thead tr:only-child th {\n",
       "        text-align: right;\n",
       "    }\n",
       "\n",
       "    .dataframe thead th {\n",
       "        text-align: left;\n",
       "    }\n",
       "\n",
       "    .dataframe tbody tr th {\n",
       "        vertical-align: top;\n",
       "    }\n",
       "</style>\n",
       "<table border=\"1\" class=\"dataframe\">\n",
       "  <thead>\n",
       "    <tr style=\"text-align: right;\">\n",
       "      <th></th>\n",
       "      <th>Date</th>\n",
       "      <th>Text</th>\n",
       "      <th>TimeStamp</th>\n",
       "      <th>Converted Time</th>\n",
       "      <th>Shooting</th>\n",
       "      <th>Neighborhood</th>\n",
       "    </tr>\n",
       "  </thead>\n",
       "  <tbody>\n",
       "    <tr>\n",
       "      <th>0</th>\n",
       "      <td>2018-3-8</td>\n",
       "      <td>Man, 43, shot in Gresham\\nhttps://t.co/STNbZjW...</td>\n",
       "      <td>Thu Mar 08 05:01:26 +0000 2018</td>\n",
       "      <td>2018-03-08 05:01:26+00:00</td>\n",
       "      <td>1</td>\n",
       "      <td></td>\n",
       "    </tr>\n",
       "    <tr>\n",
       "      <th>1</th>\n",
       "      <td>2018-3-8</td>\n",
       "      <td>Man critically wounded in Austin drive-by shoo...</td>\n",
       "      <td>Thu Mar 08 05:00:57 +0000 2018</td>\n",
       "      <td>2018-03-08 05:00:57+00:00</td>\n",
       "      <td>1</td>\n",
       "      <td></td>\n",
       "    </tr>\n",
       "    <tr>\n",
       "      <th>2</th>\n",
       "      <td>2018-3-8</td>\n",
       "      <td>Married couple shot in targeted home invasion ...</td>\n",
       "      <td>Thu Mar 08 05:00:40 +0000 2018</td>\n",
       "      <td>2018-03-08 05:00:40+00:00</td>\n",
       "      <td>1</td>\n",
       "      <td></td>\n",
       "    </tr>\n",
       "    <tr>\n",
       "      <th>3</th>\n",
       "      <td>2018-3-8</td>\n",
       "      <td>Boy, 17, shot to death in Humboldt Park \\n\\nht...</td>\n",
       "      <td>Thu Mar 08 04:59:57 +0000 2018</td>\n",
       "      <td>2018-03-08 04:59:57+00:00</td>\n",
       "      <td>1</td>\n",
       "      <td></td>\n",
       "    </tr>\n",
       "    <tr>\n",
       "      <th>4</th>\n",
       "      <td>2018-3-8</td>\n",
       "      <td>23-year-old man shot while sitting in car in C...</td>\n",
       "      <td>Thu Mar 08 04:59:03 +0000 2018</td>\n",
       "      <td>2018-03-08 04:59:03+00:00</td>\n",
       "      <td>1</td>\n",
       "      <td></td>\n",
       "    </tr>\n",
       "  </tbody>\n",
       "</table>\n",
       "</div>"
      ],
      "text/plain": [
       "       Date                                               Text  \\\n",
       "0  2018-3-8  Man, 43, shot in Gresham\\nhttps://t.co/STNbZjW...   \n",
       "1  2018-3-8  Man critically wounded in Austin drive-by shoo...   \n",
       "2  2018-3-8  Married couple shot in targeted home invasion ...   \n",
       "3  2018-3-8  Boy, 17, shot to death in Humboldt Park \\n\\nht...   \n",
       "4  2018-3-8  23-year-old man shot while sitting in car in C...   \n",
       "\n",
       "                        TimeStamp            Converted Time  Shooting  \\\n",
       "0  Thu Mar 08 05:01:26 +0000 2018 2018-03-08 05:01:26+00:00         1   \n",
       "1  Thu Mar 08 05:00:57 +0000 2018 2018-03-08 05:00:57+00:00         1   \n",
       "2  Thu Mar 08 05:00:40 +0000 2018 2018-03-08 05:00:40+00:00         1   \n",
       "3  Thu Mar 08 04:59:57 +0000 2018 2018-03-08 04:59:57+00:00         1   \n",
       "4  Thu Mar 08 04:59:03 +0000 2018 2018-03-08 04:59:03+00:00         1   \n",
       "\n",
       "  Neighborhood  \n",
       "0               \n",
       "1               \n",
       "2               \n",
       "3               \n",
       "4               "
      ]
     },
     "execution_count": 124,
     "metadata": {},
     "output_type": "execute_result"
    }
   ],
   "source": [
    "tweet_df[\"Neighborhood\"] = \"\"\n",
    "tweet_df.head()"
   ]
  },
  {
   "cell_type": "code",
   "execution_count": 125,
   "metadata": {
    "collapsed": true
   },
   "outputs": [],
   "source": [
    "for index, row in tweet_df.iterrows():\n",
    "    tx = row[\"Text\"]\n",
    "    for nb in neighborhood_list:\n",
    "        if nb in tx:\n",
    "            tweet_df.set_value(index, \"Neighborhood\", nb)"
   ]
  },
  {
   "cell_type": "code",
   "execution_count": 126,
   "metadata": {},
   "outputs": [
    {
     "data": {
      "text/html": [
       "<div>\n",
       "<style>\n",
       "    .dataframe thead tr:only-child th {\n",
       "        text-align: right;\n",
       "    }\n",
       "\n",
       "    .dataframe thead th {\n",
       "        text-align: left;\n",
       "    }\n",
       "\n",
       "    .dataframe tbody tr th {\n",
       "        vertical-align: top;\n",
       "    }\n",
       "</style>\n",
       "<table border=\"1\" class=\"dataframe\">\n",
       "  <thead>\n",
       "    <tr style=\"text-align: right;\">\n",
       "      <th></th>\n",
       "      <th>Date</th>\n",
       "      <th>Text</th>\n",
       "      <th>TimeStamp</th>\n",
       "      <th>Converted Time</th>\n",
       "      <th>Shooting</th>\n",
       "      <th>Neighborhood</th>\n",
       "    </tr>\n",
       "  </thead>\n",
       "  <tbody>\n",
       "    <tr>\n",
       "      <th>0</th>\n",
       "      <td>2018-3-8</td>\n",
       "      <td>Man, 43, shot in Gresham\\nhttps://t.co/STNbZjW...</td>\n",
       "      <td>Thu Mar 08 05:01:26 +0000 2018</td>\n",
       "      <td>2018-03-08 05:01:26+00:00</td>\n",
       "      <td>1</td>\n",
       "      <td></td>\n",
       "    </tr>\n",
       "    <tr>\n",
       "      <th>1</th>\n",
       "      <td>2018-3-8</td>\n",
       "      <td>Man critically wounded in Austin drive-by shoo...</td>\n",
       "      <td>Thu Mar 08 05:00:57 +0000 2018</td>\n",
       "      <td>2018-03-08 05:00:57+00:00</td>\n",
       "      <td>1</td>\n",
       "      <td>Austin</td>\n",
       "    </tr>\n",
       "    <tr>\n",
       "      <th>2</th>\n",
       "      <td>2018-3-8</td>\n",
       "      <td>Married couple shot in targeted home invasion ...</td>\n",
       "      <td>Thu Mar 08 05:00:40 +0000 2018</td>\n",
       "      <td>2018-03-08 05:00:40+00:00</td>\n",
       "      <td>1</td>\n",
       "      <td></td>\n",
       "    </tr>\n",
       "    <tr>\n",
       "      <th>3</th>\n",
       "      <td>2018-3-8</td>\n",
       "      <td>Boy, 17, shot to death in Humboldt Park \\n\\nht...</td>\n",
       "      <td>Thu Mar 08 04:59:57 +0000 2018</td>\n",
       "      <td>2018-03-08 04:59:57+00:00</td>\n",
       "      <td>1</td>\n",
       "      <td>Humboldt Park</td>\n",
       "    </tr>\n",
       "    <tr>\n",
       "      <th>4</th>\n",
       "      <td>2018-3-8</td>\n",
       "      <td>23-year-old man shot while sitting in car in C...</td>\n",
       "      <td>Thu Mar 08 04:59:03 +0000 2018</td>\n",
       "      <td>2018-03-08 04:59:03+00:00</td>\n",
       "      <td>1</td>\n",
       "      <td>Chatham</td>\n",
       "    </tr>\n",
       "  </tbody>\n",
       "</table>\n",
       "</div>"
      ],
      "text/plain": [
       "       Date                                               Text  \\\n",
       "0  2018-3-8  Man, 43, shot in Gresham\\nhttps://t.co/STNbZjW...   \n",
       "1  2018-3-8  Man critically wounded in Austin drive-by shoo...   \n",
       "2  2018-3-8  Married couple shot in targeted home invasion ...   \n",
       "3  2018-3-8  Boy, 17, shot to death in Humboldt Park \\n\\nht...   \n",
       "4  2018-3-8  23-year-old man shot while sitting in car in C...   \n",
       "\n",
       "                        TimeStamp            Converted Time  Shooting  \\\n",
       "0  Thu Mar 08 05:01:26 +0000 2018 2018-03-08 05:01:26+00:00         1   \n",
       "1  Thu Mar 08 05:00:57 +0000 2018 2018-03-08 05:00:57+00:00         1   \n",
       "2  Thu Mar 08 05:00:40 +0000 2018 2018-03-08 05:00:40+00:00         1   \n",
       "3  Thu Mar 08 04:59:57 +0000 2018 2018-03-08 04:59:57+00:00         1   \n",
       "4  Thu Mar 08 04:59:03 +0000 2018 2018-03-08 04:59:03+00:00         1   \n",
       "\n",
       "    Neighborhood  \n",
       "0                 \n",
       "1         Austin  \n",
       "2                 \n",
       "3  Humboldt Park  \n",
       "4        Chatham  "
      ]
     },
     "execution_count": 126,
     "metadata": {},
     "output_type": "execute_result"
    }
   ],
   "source": [
    "tweet_df.head()"
   ]
  },
  {
   "cell_type": "code",
   "execution_count": 127,
   "metadata": {
    "collapsed": true
   },
   "outputs": [],
   "source": [
    "tweet_df.to_csv(\"ChiraqTweets01.csv\")"
   ]
  },
  {
   "cell_type": "code",
   "execution_count": 128,
   "metadata": {},
   "outputs": [
    {
     "data": {
      "text/html": [
       "<div>\n",
       "<style>\n",
       "    .dataframe thead tr:only-child th {\n",
       "        text-align: right;\n",
       "    }\n",
       "\n",
       "    .dataframe thead th {\n",
       "        text-align: left;\n",
       "    }\n",
       "\n",
       "    .dataframe tbody tr th {\n",
       "        vertical-align: top;\n",
       "    }\n",
       "</style>\n",
       "<table border=\"1\" class=\"dataframe\">\n",
       "  <thead>\n",
       "    <tr style=\"text-align: right;\">\n",
       "      <th></th>\n",
       "      <th>Date</th>\n",
       "      <th>Text</th>\n",
       "      <th>TimeStamp</th>\n",
       "      <th>Converted Time</th>\n",
       "      <th>Shooting</th>\n",
       "      <th>Neighborhood</th>\n",
       "      <th>Community</th>\n",
       "    </tr>\n",
       "  </thead>\n",
       "  <tbody>\n",
       "    <tr>\n",
       "      <th>0</th>\n",
       "      <td>2018-3-8</td>\n",
       "      <td>Man, 43, shot in Gresham\\nhttps://t.co/STNbZjW...</td>\n",
       "      <td>Thu Mar 08 05:01:26 +0000 2018</td>\n",
       "      <td>2018-03-08 05:01:26+00:00</td>\n",
       "      <td>1</td>\n",
       "      <td></td>\n",
       "      <td></td>\n",
       "    </tr>\n",
       "    <tr>\n",
       "      <th>1</th>\n",
       "      <td>2018-3-8</td>\n",
       "      <td>Man critically wounded in Austin drive-by shoo...</td>\n",
       "      <td>Thu Mar 08 05:00:57 +0000 2018</td>\n",
       "      <td>2018-03-08 05:00:57+00:00</td>\n",
       "      <td>1</td>\n",
       "      <td>Austin</td>\n",
       "      <td></td>\n",
       "    </tr>\n",
       "    <tr>\n",
       "      <th>2</th>\n",
       "      <td>2018-3-8</td>\n",
       "      <td>Married couple shot in targeted home invasion ...</td>\n",
       "      <td>Thu Mar 08 05:00:40 +0000 2018</td>\n",
       "      <td>2018-03-08 05:00:40+00:00</td>\n",
       "      <td>1</td>\n",
       "      <td></td>\n",
       "      <td></td>\n",
       "    </tr>\n",
       "    <tr>\n",
       "      <th>3</th>\n",
       "      <td>2018-3-8</td>\n",
       "      <td>Boy, 17, shot to death in Humboldt Park \\n\\nht...</td>\n",
       "      <td>Thu Mar 08 04:59:57 +0000 2018</td>\n",
       "      <td>2018-03-08 04:59:57+00:00</td>\n",
       "      <td>1</td>\n",
       "      <td>Humboldt Park</td>\n",
       "      <td></td>\n",
       "    </tr>\n",
       "    <tr>\n",
       "      <th>4</th>\n",
       "      <td>2018-3-8</td>\n",
       "      <td>23-year-old man shot while sitting in car in C...</td>\n",
       "      <td>Thu Mar 08 04:59:03 +0000 2018</td>\n",
       "      <td>2018-03-08 04:59:03+00:00</td>\n",
       "      <td>1</td>\n",
       "      <td>Chatham</td>\n",
       "      <td></td>\n",
       "    </tr>\n",
       "  </tbody>\n",
       "</table>\n",
       "</div>"
      ],
      "text/plain": [
       "       Date                                               Text  \\\n",
       "0  2018-3-8  Man, 43, shot in Gresham\\nhttps://t.co/STNbZjW...   \n",
       "1  2018-3-8  Man critically wounded in Austin drive-by shoo...   \n",
       "2  2018-3-8  Married couple shot in targeted home invasion ...   \n",
       "3  2018-3-8  Boy, 17, shot to death in Humboldt Park \\n\\nht...   \n",
       "4  2018-3-8  23-year-old man shot while sitting in car in C...   \n",
       "\n",
       "                        TimeStamp            Converted Time  Shooting  \\\n",
       "0  Thu Mar 08 05:01:26 +0000 2018 2018-03-08 05:01:26+00:00         1   \n",
       "1  Thu Mar 08 05:00:57 +0000 2018 2018-03-08 05:00:57+00:00         1   \n",
       "2  Thu Mar 08 05:00:40 +0000 2018 2018-03-08 05:00:40+00:00         1   \n",
       "3  Thu Mar 08 04:59:57 +0000 2018 2018-03-08 04:59:57+00:00         1   \n",
       "4  Thu Mar 08 04:59:03 +0000 2018 2018-03-08 04:59:03+00:00         1   \n",
       "\n",
       "    Neighborhood Community  \n",
       "0                           \n",
       "1         Austin            \n",
       "2                           \n",
       "3  Humboldt Park            \n",
       "4        Chatham            "
      ]
     },
     "execution_count": 128,
     "metadata": {},
     "output_type": "execute_result"
    }
   ],
   "source": [
    "tweet_df[\"Community\"] = \"\"\n",
    "tweet_df.head()"
   ]
  },
  {
   "cell_type": "code",
   "execution_count": 129,
   "metadata": {
    "collapsed": true
   },
   "outputs": [],
   "source": [
    "for index, row in tweet_df.iterrows():\n",
    "    tx = row[\"Text\"]\n",
    "    for co in community_list:\n",
    "        if co in tx:\n",
    "            tweet_df.set_value(index, \"Community\", co)"
   ]
  },
  {
   "cell_type": "code",
   "execution_count": 130,
   "metadata": {
    "collapsed": true
   },
   "outputs": [],
   "source": [
    "tweet_df.to_csv(\"ChiraqTweets01.csv\")"
   ]
  },
  {
   "cell_type": "code",
   "execution_count": 131,
   "metadata": {},
   "outputs": [
    {
     "name": "stdout",
     "output_type": "stream",
     "text": [
      "CPU times: user 7.13 s, sys: 550 ms, total: 7.68 s\n",
      "Wall time: 1min 27s\n"
     ]
    }
   ],
   "source": [
    "%%time\n",
    "all_tweets = get_public_tweets(250)"
   ]
  },
  {
   "cell_type": "code",
   "execution_count": 136,
   "metadata": {},
   "outputs": [
    {
     "data": {
      "text/plain": [
       "{'contributors': None,\n",
       " 'coordinates': None,\n",
       " 'created_at': 'Thu Mar 08 05:01:26 +0000 2018',\n",
       " 'entities': {'hashtags': [],\n",
       "  'media': [{'display_url': 'pic.twitter.com/cPMyMSUnQk',\n",
       "    'expanded_url': 'https://twitter.com/CSTbreaking/status/971226623109365761/photo/1',\n",
       "    'id': 971226620345200640,\n",
       "    'id_str': '971226620345200640',\n",
       "    'indices': [49, 72],\n",
       "    'media_url': 'http://pbs.twimg.com/media/DXp9dyYUMAAZDIM.jpg',\n",
       "    'media_url_https': 'https://pbs.twimg.com/media/DXp9dyYUMAAZDIM.jpg',\n",
       "    'sizes': {'large': {'h': 259, 'resize': 'fit', 'w': 396},\n",
       "     'medium': {'h': 259, 'resize': 'fit', 'w': 396},\n",
       "     'small': {'h': 259, 'resize': 'fit', 'w': 396},\n",
       "     'thumb': {'h': 150, 'resize': 'crop', 'w': 150}},\n",
       "    'source_status_id': 971226623109365761,\n",
       "    'source_status_id_str': '971226623109365761',\n",
       "    'source_user_id': 2382642386,\n",
       "    'source_user_id_str': '2382642386',\n",
       "    'type': 'photo',\n",
       "    'url': 'https://t.co/cPMyMSUnQk'}],\n",
       "  'symbols': [],\n",
       "  'urls': [{'display_url': 'bit.ly/2FtmypB',\n",
       "    'expanded_url': 'http://bit.ly/2FtmypB',\n",
       "    'indices': [25, 48],\n",
       "    'url': 'https://t.co/STNbZjWq03'}],\n",
       "  'user_mentions': []},\n",
       " 'extended_entities': {'media': [{'display_url': 'pic.twitter.com/cPMyMSUnQk',\n",
       "    'expanded_url': 'https://twitter.com/CSTbreaking/status/971226623109365761/photo/1',\n",
       "    'id': 971226620345200640,\n",
       "    'id_str': '971226620345200640',\n",
       "    'indices': [49, 72],\n",
       "    'media_url': 'http://pbs.twimg.com/media/DXp9dyYUMAAZDIM.jpg',\n",
       "    'media_url_https': 'https://pbs.twimg.com/media/DXp9dyYUMAAZDIM.jpg',\n",
       "    'sizes': {'large': {'h': 259, 'resize': 'fit', 'w': 396},\n",
       "     'medium': {'h': 259, 'resize': 'fit', 'w': 396},\n",
       "     'small': {'h': 259, 'resize': 'fit', 'w': 396},\n",
       "     'thumb': {'h': 150, 'resize': 'crop', 'w': 150}},\n",
       "    'source_status_id': 971226623109365761,\n",
       "    'source_status_id_str': '971226623109365761',\n",
       "    'source_user_id': 2382642386,\n",
       "    'source_user_id_str': '2382642386',\n",
       "    'type': 'photo',\n",
       "    'url': 'https://t.co/cPMyMSUnQk'}]},\n",
       " 'favorite_count': 0,\n",
       " 'favorited': False,\n",
       " 'geo': None,\n",
       " 'id': 971611828022333440,\n",
       " 'id_str': '971611828022333440',\n",
       " 'in_reply_to_screen_name': None,\n",
       " 'in_reply_to_status_id': None,\n",
       " 'in_reply_to_status_id_str': None,\n",
       " 'in_reply_to_user_id': None,\n",
       " 'in_reply_to_user_id_str': None,\n",
       " 'is_quote_status': False,\n",
       " 'lang': 'en',\n",
       " 'place': None,\n",
       " 'possibly_sensitive': False,\n",
       " 'retweet_count': 1,\n",
       " 'retweeted': False,\n",
       " 'source': '<a href=\"http://twitter.com/download/android\" rel=\"nofollow\">Twitter for Android</a>',\n",
       " 'text': 'Man, 43, shot in Gresham\\nhttps://t.co/STNbZjWq03 https://t.co/cPMyMSUnQk',\n",
       " 'truncated': False,\n",
       " 'user': {'contributors_enabled': False,\n",
       "  'created_at': 'Wed Jan 30 05:42:25 +0000 2013',\n",
       "  'default_profile': False,\n",
       "  'default_profile_image': False,\n",
       "  'description': 'Here to inform citizens of where violence is occurring in Chicago and to provide a public record of the violence. No Chat, No Glory, Just The Stories!',\n",
       "  'entities': {'description': {'urls': []},\n",
       "   'url': {'urls': [{'display_url': 'tinyurl.com/k9w9cbl',\n",
       "      'expanded_url': 'http://tinyurl.com/k9w9cbl',\n",
       "      'indices': [0, 22],\n",
       "      'url': 'http://t.co/jiSyilRz3S'}]}},\n",
       "  'favourites_count': 0,\n",
       "  'follow_request_sent': False,\n",
       "  'followers_count': 4428,\n",
       "  'following': True,\n",
       "  'friends_count': 0,\n",
       "  'geo_enabled': False,\n",
       "  'has_extended_profile': False,\n",
       "  'id': 1133072065,\n",
       "  'id_str': '1133072065',\n",
       "  'is_translation_enabled': False,\n",
       "  'is_translator': False,\n",
       "  'lang': 'en',\n",
       "  'listed_count': 64,\n",
       "  'location': 'Chicago, Illinois  ',\n",
       "  'name': 'Chiraq Homicide',\n",
       "  'notifications': False,\n",
       "  'profile_background_color': '910505',\n",
       "  'profile_background_image_url': 'http://pbs.twimg.com/profile_background_images/378800000061209539/64d23e00e3927ed5bc914c4aecb0ae3a.gif',\n",
       "  'profile_background_image_url_https': 'https://pbs.twimg.com/profile_background_images/378800000061209539/64d23e00e3927ed5bc914c4aecb0ae3a.gif',\n",
       "  'profile_background_tile': True,\n",
       "  'profile_banner_url': 'https://pbs.twimg.com/profile_banners/1133072065/1398243655',\n",
       "  'profile_image_url': 'http://pbs.twimg.com/profile_images/462784928543821825/NEd5ksnO_normal.png',\n",
       "  'profile_image_url_https': 'https://pbs.twimg.com/profile_images/462784928543821825/NEd5ksnO_normal.png',\n",
       "  'profile_link_color': 'BD0D0D',\n",
       "  'profile_sidebar_border_color': '000000',\n",
       "  'profile_sidebar_fill_color': 'DDEEF6',\n",
       "  'profile_text_color': '333333',\n",
       "  'profile_use_background_image': True,\n",
       "  'protected': False,\n",
       "  'screen_name': 'ChiraqHomicide',\n",
       "  'statuses_count': 15808,\n",
       "  'time_zone': 'Central Time (US & Canada)',\n",
       "  'translator_type': 'none',\n",
       "  'url': 'http://t.co/jiSyilRz3S',\n",
       "  'utc_offset': -21600,\n",
       "  'verified': False}}"
      ]
     },
     "execution_count": 136,
     "metadata": {},
     "output_type": "execute_result"
    }
   ],
   "source": [
    "all_tweets[0]"
   ]
  },
  {
   "cell_type": "code",
   "execution_count": 138,
   "metadata": {
    "collapsed": true
   },
   "outputs": [],
   "source": [
    "count_tweets = api.user_timeline(\"ChiraqHomicide\", count = 201)"
   ]
  },
  {
   "cell_type": "code",
   "execution_count": 139,
   "metadata": {},
   "outputs": [
    {
     "data": {
      "text/plain": [
       "200"
      ]
     },
     "execution_count": 139,
     "metadata": {},
     "output_type": "execute_result"
    }
   ],
   "source": [
    "len(count_tweets)"
   ]
  },
  {
   "cell_type": "code",
   "execution_count": 137,
   "metadata": {},
   "outputs": [
    {
     "data": {
      "text/plain": [
       "'Man, 43, shot in Gresham\\nhttps://t.co/STNbZjWq03 https://t.co/cPMyMSUnQk'"
      ]
     },
     "execution_count": 137,
     "metadata": {},
     "output_type": "execute_result"
    }
   ],
   "source": [
    "count_tweets[0][\"text\"]"
   ]
  },
  {
   "cell_type": "code",
   "execution_count": null,
   "metadata": {
    "collapsed": true
   },
   "outputs": [],
   "source": []
  }
 ],
 "metadata": {
  "kernelspec": {
   "display_name": "Python 3",
   "language": "python",
   "name": "python3"
  },
  "language_info": {
   "codemirror_mode": {
    "name": "ipython",
    "version": 3
   },
   "file_extension": ".py",
   "mimetype": "text/x-python",
   "name": "python",
   "nbconvert_exporter": "python",
   "pygments_lexer": "ipython3",
   "version": "3.6.1"
  }
 },
 "nbformat": 4,
 "nbformat_minor": 2
}
