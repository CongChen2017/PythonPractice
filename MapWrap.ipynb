{
 "cells": [
  {
   "cell_type": "code",
   "execution_count": 1,
   "metadata": {
    "collapsed": true
   },
   "outputs": [],
   "source": [
    "# Dependencies\n",
    "import openweathermapy.core as owm\n",
    "import pandas as pd\n",
    "\n",
    "#api_key\n",
    "from mydata import OpenWeather_api_key"
   ]
  },
  {
   "cell_type": "code",
   "execution_count": 2,
   "metadata": {
    "collapsed": true
   },
   "outputs": [],
   "source": [
    "# Create settings dictionary with information we're interested in\n",
    "settings = {\"units\": \"metric\", \"appid\": OpenWeather_api_key}"
   ]
  },
  {
   "cell_type": "code",
   "execution_count": 3,
   "metadata": {
    "collapsed": true
   },
   "outputs": [],
   "source": [
    "# read data\n",
    "df = pd.read_csv('Resources/cities.csv', header=None)\n",
    "cities = df[0]"
   ]
  },
  {
   "cell_type": "code",
   "execution_count": 4,
   "metadata": {
    "collapsed": true
   },
   "outputs": [],
   "source": [
    "# generate empty lists\n",
    "temp = []\n",
    "lat = []\n",
    "long = []"
   ]
  },
  {
   "cell_type": "code",
   "execution_count": 5,
   "metadata": {},
   "outputs": [],
   "source": [
    "# using API wrapper, get data put into lists\n",
    "for city in cities:\n",
    "    response = owm.get_current(city, **settings)\n",
    "    temp.append(response['main']['temp'])\n",
    "    lat.append(response['coord']['lat'])\n",
    "    long.append(response['coord']['lon'])"
   ]
  },
  {
   "cell_type": "code",
   "execution_count": 6,
   "metadata": {},
   "outputs": [],
   "source": [
    "# generate data frame\n",
    "city_dic = {\n",
    "    'cities': cities,\n",
    "    'temperature': temp,\n",
    "    'latitude': lat,\n",
    "    'longitude': long\n",
    "}\n",
    "\n",
    "city_df = pd.DataFrame(city_dic)"
   ]
  },
  {
   "cell_type": "code",
   "execution_count": 7,
   "metadata": {},
   "outputs": [],
   "source": [
    "city_df = city_df.set_index('cities')\n",
    "del city_df.index.name"
   ]
  },
  {
   "cell_type": "code",
   "execution_count": 8,
   "metadata": {},
   "outputs": [
    {
     "data": {
      "text/html": [
       "<div>\n",
       "<style>\n",
       "    .dataframe thead tr:only-child th {\n",
       "        text-align: right;\n",
       "    }\n",
       "\n",
       "    .dataframe thead th {\n",
       "        text-align: left;\n",
       "    }\n",
       "\n",
       "    .dataframe tbody tr th {\n",
       "        vertical-align: top;\n",
       "    }\n",
       "</style>\n",
       "<table border=\"1\" class=\"dataframe\">\n",
       "  <thead>\n",
       "    <tr style=\"text-align: right;\">\n",
       "      <th></th>\n",
       "      <th>temperature</th>\n",
       "      <th>latitude</th>\n",
       "      <th>longitude</th>\n",
       "    </tr>\n",
       "  </thead>\n",
       "  <tbody>\n",
       "    <tr>\n",
       "      <th>Paris</th>\n",
       "      <td>7.23</td>\n",
       "      <td>48.86</td>\n",
       "      <td>2.35</td>\n",
       "    </tr>\n",
       "    <tr>\n",
       "      <th>London</th>\n",
       "      <td>2.27</td>\n",
       "      <td>51.51</td>\n",
       "      <td>-0.13</td>\n",
       "    </tr>\n",
       "    <tr>\n",
       "      <th>Oslo</th>\n",
       "      <td>-6.00</td>\n",
       "      <td>59.91</td>\n",
       "      <td>10.74</td>\n",
       "    </tr>\n",
       "    <tr>\n",
       "      <th>Beijing</th>\n",
       "      <td>9.00</td>\n",
       "      <td>39.91</td>\n",
       "      <td>116.39</td>\n",
       "    </tr>\n",
       "    <tr>\n",
       "      <th>Moscow</th>\n",
       "      <td>2.59</td>\n",
       "      <td>46.73</td>\n",
       "      <td>-117.00</td>\n",
       "    </tr>\n",
       "    <tr>\n",
       "      <th>Vladivostok</th>\n",
       "      <td>-6.00</td>\n",
       "      <td>43.12</td>\n",
       "      <td>131.89</td>\n",
       "    </tr>\n",
       "    <tr>\n",
       "      <th>Osaka</th>\n",
       "      <td>9.00</td>\n",
       "      <td>34.70</td>\n",
       "      <td>135.50</td>\n",
       "    </tr>\n",
       "    <tr>\n",
       "      <th>Honolulu</th>\n",
       "      <td>22.99</td>\n",
       "      <td>21.30</td>\n",
       "      <td>-157.86</td>\n",
       "    </tr>\n",
       "    <tr>\n",
       "      <th>Montevideo</th>\n",
       "      <td>3.91</td>\n",
       "      <td>44.94</td>\n",
       "      <td>-95.72</td>\n",
       "    </tr>\n",
       "    <tr>\n",
       "      <th>Erbil</th>\n",
       "      <td>14.00</td>\n",
       "      <td>36.19</td>\n",
       "      <td>44.01</td>\n",
       "    </tr>\n",
       "  </tbody>\n",
       "</table>\n",
       "</div>"
      ],
      "text/plain": [
       "             temperature  latitude  longitude\n",
       "Paris               7.23     48.86       2.35\n",
       "London              2.27     51.51      -0.13\n",
       "Oslo               -6.00     59.91      10.74\n",
       "Beijing             9.00     39.91     116.39\n",
       "Moscow              2.59     46.73    -117.00\n",
       "Vladivostok        -6.00     43.12     131.89\n",
       "Osaka               9.00     34.70     135.50\n",
       "Honolulu           22.99     21.30    -157.86\n",
       "Montevideo          3.91     44.94     -95.72\n",
       "Erbil              14.00     36.19      44.01"
      ]
     },
     "execution_count": 8,
     "metadata": {},
     "output_type": "execute_result"
    }
   ],
   "source": [
    "city_df = city_df[['temperature', 'latitude', 'longitude']]\n",
    "city_df"
   ]
  },
  {
   "cell_type": "code",
   "execution_count": null,
   "metadata": {
    "collapsed": true
   },
   "outputs": [],
   "source": []
  }
 ],
 "metadata": {
  "kernelspec": {
   "display_name": "Python 3",
   "language": "python",
   "name": "python3"
  },
  "language_info": {
   "codemirror_mode": {
    "name": "ipython",
    "version": 3
   },
   "file_extension": ".py",
   "mimetype": "text/x-python",
   "name": "python",
   "nbconvert_exporter": "python",
   "pygments_lexer": "ipython3",
   "version": "3.6.1"
  }
 },
 "nbformat": 4,
 "nbformat_minor": 2
}
